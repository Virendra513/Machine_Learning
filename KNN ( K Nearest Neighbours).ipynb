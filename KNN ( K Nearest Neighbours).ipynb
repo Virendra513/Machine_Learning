{
 "cells": [
  {
   "cell_type": "markdown",
   "id": "f79ccb6f",
   "metadata": {},
   "source": [
    "# KNN (K Nearest Neighbours)\n",
    "\n",
    "**Observes the nature of nearest nighbours\n",
    "Lazy Learning Algorithm\n",
    "Simplest Machine Learning Algorithm**\n",
    "\n",
    "### k-Nearest Neighbors (KNN) is a supervised machine learning algorithm used for classification and regression tasks. The basic idea behind KNN is to predict the label of a data point by looking at its k nearest neighbors in the feature space. \n",
    "* Choose k \n",
    "* Normalize Features (Optional)\n",
    "* Calculate distance of new point from all train data poiints\n",
    "* Sort the distane list in ascending order\n",
    "* Chosse first k distances from the sorted list\n",
    "* Take mean(for regression) or mode(for classifocation)"
   ]
  },
  {
   "cell_type": "code",
   "execution_count": 58,
   "id": "935980d1",
   "metadata": {},
   "outputs": [],
   "source": [
    "# Importing libraries\n",
    "import pandas as pd\n",
    "import numpy as np\n",
    "import matplotlib.pyplot as plt\n",
    "\n",
    "%matplotlib inline\n",
    "import warnings\n",
    "warnings.filterwarnings(\"ignore\")"
   ]
  },
  {
   "cell_type": "markdown",
   "id": "50bf79d9",
   "metadata": {},
   "source": [
    "## load the data"
   ]
  },
  {
   "cell_type": "code",
   "execution_count": 2,
   "id": "ac541296",
   "metadata": {},
   "outputs": [
    {
     "data": {
      "text/html": [
       "<div>\n",
       "<style scoped>\n",
       "    .dataframe tbody tr th:only-of-type {\n",
       "        vertical-align: middle;\n",
       "    }\n",
       "\n",
       "    .dataframe tbody tr th {\n",
       "        vertical-align: top;\n",
       "    }\n",
       "\n",
       "    .dataframe thead th {\n",
       "        text-align: right;\n",
       "    }\n",
       "</style>\n",
       "<table border=\"1\" class=\"dataframe\">\n",
       "  <thead>\n",
       "    <tr style=\"text-align: right;\">\n",
       "      <th></th>\n",
       "      <th>Age</th>\n",
       "      <th>Fare</th>\n",
       "      <th>Family</th>\n",
       "      <th>Survived</th>\n",
       "    </tr>\n",
       "  </thead>\n",
       "  <tbody>\n",
       "    <tr>\n",
       "      <th>0</th>\n",
       "      <td>22.0</td>\n",
       "      <td>7.2500</td>\n",
       "      <td>1</td>\n",
       "      <td>0</td>\n",
       "    </tr>\n",
       "    <tr>\n",
       "      <th>1</th>\n",
       "      <td>38.0</td>\n",
       "      <td>71.2833</td>\n",
       "      <td>1</td>\n",
       "      <td>1</td>\n",
       "    </tr>\n",
       "    <tr>\n",
       "      <th>2</th>\n",
       "      <td>26.0</td>\n",
       "      <td>7.9250</td>\n",
       "      <td>0</td>\n",
       "      <td>1</td>\n",
       "    </tr>\n",
       "    <tr>\n",
       "      <th>3</th>\n",
       "      <td>35.0</td>\n",
       "      <td>53.1000</td>\n",
       "      <td>1</td>\n",
       "      <td>1</td>\n",
       "    </tr>\n",
       "    <tr>\n",
       "      <th>4</th>\n",
       "      <td>35.0</td>\n",
       "      <td>8.0500</td>\n",
       "      <td>0</td>\n",
       "      <td>0</td>\n",
       "    </tr>\n",
       "  </tbody>\n",
       "</table>\n",
       "</div>"
      ],
      "text/plain": [
       "    Age     Fare  Family  Survived\n",
       "0  22.0   7.2500       1         0\n",
       "1  38.0  71.2833       1         1\n",
       "2  26.0   7.9250       0         1\n",
       "3  35.0  53.1000       1         1\n",
       "4  35.0   8.0500       0         0"
      ]
     },
     "execution_count": 2,
     "metadata": {},
     "output_type": "execute_result"
    }
   ],
   "source": [
    "data=pd.read_csv(\"E:\\DS_ACADEMIC\\DataSets\\day36-imputing-numerical-data_titanic_toy.csv\")\n",
    "data.head()"
   ]
  },
  {
   "cell_type": "code",
   "execution_count": 3,
   "id": "6f28883c",
   "metadata": {},
   "outputs": [
    {
     "name": "stdout",
     "output_type": "stream",
     "text": [
      "<class 'pandas.core.frame.DataFrame'>\n",
      "RangeIndex: 891 entries, 0 to 890\n",
      "Data columns (total 4 columns):\n",
      " #   Column    Non-Null Count  Dtype  \n",
      "---  ------    --------------  -----  \n",
      " 0   Age       714 non-null    float64\n",
      " 1   Fare      846 non-null    float64\n",
      " 2   Family    891 non-null    int64  \n",
      " 3   Survived  891 non-null    int64  \n",
      "dtypes: float64(2), int64(2)\n",
      "memory usage: 28.0 KB\n"
     ]
    }
   ],
   "source": [
    "data.info()"
   ]
  },
  {
   "cell_type": "code",
   "execution_count": 5,
   "id": "d52d17ac",
   "metadata": {},
   "outputs": [],
   "source": [
    "# Impute Missing values with mean  of the age column\n",
    "mean_age=data['Age'].mean()\n",
    "data['Age'].fillna(mean_age, inplace=True)"
   ]
  },
  {
   "cell_type": "code",
   "execution_count": 7,
   "id": "21af4eb7",
   "metadata": {},
   "outputs": [],
   "source": [
    "# Impute forward fill miussing values in the 'Fare column'\n",
    "data['Fare'].fillna(method='ffill', inplace =True)"
   ]
  },
  {
   "cell_type": "code",
   "execution_count": 8,
   "id": "fc48eb62",
   "metadata": {},
   "outputs": [
    {
     "name": "stdout",
     "output_type": "stream",
     "text": [
      "<class 'pandas.core.frame.DataFrame'>\n",
      "RangeIndex: 891 entries, 0 to 890\n",
      "Data columns (total 4 columns):\n",
      " #   Column    Non-Null Count  Dtype  \n",
      "---  ------    --------------  -----  \n",
      " 0   Age       891 non-null    float64\n",
      " 1   Fare      891 non-null    float64\n",
      " 2   Family    891 non-null    int64  \n",
      " 3   Survived  891 non-null    int64  \n",
      "dtypes: float64(2), int64(2)\n",
      "memory usage: 28.0 KB\n"
     ]
    }
   ],
   "source": [
    "data.info()"
   ]
  },
  {
   "cell_type": "code",
   "execution_count": 10,
   "id": "e00600b0",
   "metadata": {},
   "outputs": [
    {
     "data": {
      "text/html": [
       "<div>\n",
       "<style scoped>\n",
       "    .dataframe tbody tr th:only-of-type {\n",
       "        vertical-align: middle;\n",
       "    }\n",
       "\n",
       "    .dataframe tbody tr th {\n",
       "        vertical-align: top;\n",
       "    }\n",
       "\n",
       "    .dataframe thead th {\n",
       "        text-align: right;\n",
       "    }\n",
       "</style>\n",
       "<table border=\"1\" class=\"dataframe\">\n",
       "  <thead>\n",
       "    <tr style=\"text-align: right;\">\n",
       "      <th></th>\n",
       "      <th>Age</th>\n",
       "      <th>Fare</th>\n",
       "      <th>Family</th>\n",
       "      <th>Survived</th>\n",
       "    </tr>\n",
       "  </thead>\n",
       "  <tbody>\n",
       "    <tr>\n",
       "      <th>858</th>\n",
       "      <td>24.000000</td>\n",
       "      <td>19.2583</td>\n",
       "      <td>3</td>\n",
       "      <td>1</td>\n",
       "    </tr>\n",
       "    <tr>\n",
       "      <th>607</th>\n",
       "      <td>27.000000</td>\n",
       "      <td>30.5000</td>\n",
       "      <td>0</td>\n",
       "      <td>1</td>\n",
       "    </tr>\n",
       "    <tr>\n",
       "      <th>773</th>\n",
       "      <td>29.699118</td>\n",
       "      <td>7.2250</td>\n",
       "      <td>0</td>\n",
       "      <td>0</td>\n",
       "    </tr>\n",
       "    <tr>\n",
       "      <th>402</th>\n",
       "      <td>21.000000</td>\n",
       "      <td>9.8250</td>\n",
       "      <td>1</td>\n",
       "      <td>0</td>\n",
       "    </tr>\n",
       "    <tr>\n",
       "      <th>720</th>\n",
       "      <td>6.000000</td>\n",
       "      <td>33.0000</td>\n",
       "      <td>1</td>\n",
       "      <td>1</td>\n",
       "    </tr>\n",
       "  </tbody>\n",
       "</table>\n",
       "</div>"
      ],
      "text/plain": [
       "           Age     Fare  Family  Survived\n",
       "858  24.000000  19.2583       3         1\n",
       "607  27.000000  30.5000       0         1\n",
       "773  29.699118   7.2250       0         0\n",
       "402  21.000000   9.8250       1         0\n",
       "720   6.000000  33.0000       1         1"
      ]
     },
     "execution_count": 10,
     "metadata": {},
     "output_type": "execute_result"
    }
   ],
   "source": [
    "data.sample(5)"
   ]
  },
  {
   "cell_type": "markdown",
   "id": "e88dcef9",
   "metadata": {},
   "source": [
    "## Segregating variables: Independent and Dependent Variables"
   ]
  },
  {
   "cell_type": "code",
   "execution_count": 13,
   "id": "91075617",
   "metadata": {},
   "outputs": [
    {
     "data": {
      "text/plain": [
       "((891, 3), (891,))"
      ]
     },
     "execution_count": 13,
     "metadata": {},
     "output_type": "execute_result"
    }
   ],
   "source": [
    "# Seprating independent and Dependent Variables\n",
    "x=data.drop(['Survived'], axis=1)\n",
    "y=data['Survived']\n",
    "x.shape, y.shape"
   ]
  },
  {
   "cell_type": "code",
   "execution_count": 17,
   "id": "c3c36e22",
   "metadata": {},
   "outputs": [],
   "source": [
    "# Scaling the data(Using Min Max Scaler)\n",
    "## Importing the MinMax Scaler\n",
    "from sklearn.preprocessing import MinMaxScaler\n",
    "scl=MinMaxScaler()\n",
    "x_scaled=scl.fit_transform(x)"
   ]
  },
  {
   "cell_type": "code",
   "execution_count": 18,
   "id": "1d805e9f",
   "metadata": {},
   "outputs": [],
   "source": [
    "x= pd.DataFrame(x_scaled, columns=x.columns)"
   ]
  },
  {
   "cell_type": "markdown",
   "id": "893c44fe",
   "metadata": {},
   "source": [
    "## Splitting Data"
   ]
  },
  {
   "cell_type": "code",
   "execution_count": 20,
   "id": "f3ab3870",
   "metadata": {},
   "outputs": [],
   "source": [
    "# Importing the train test split function\n",
    "from sklearn.model_selection import train_test_split\n",
    "train_x, test_x, train_y, test_y= train_test_split(x,y, test_size=0.25, random_state=42, stratify=y)"
   ]
  },
  {
   "cell_type": "code",
   "execution_count": 21,
   "id": "b02eeae5",
   "metadata": {},
   "outputs": [
    {
     "data": {
      "text/plain": [
       "(668, 3)"
      ]
     },
     "execution_count": 21,
     "metadata": {},
     "output_type": "execute_result"
    }
   ],
   "source": [
    "train_x.shape"
   ]
  },
  {
   "cell_type": "code",
   "execution_count": 22,
   "id": "b8c635a3",
   "metadata": {},
   "outputs": [],
   "source": [
    "# Implementing KNN Classiefier\n",
    "from sklearn.neighbors import KNeighborsClassifier as KNN\n",
    "from sklearn.metrics import f1_score"
   ]
  },
  {
   "cell_type": "code",
   "execution_count": 23,
   "id": "3f965268",
   "metadata": {},
   "outputs": [
    {
     "name": "stdout",
     "output_type": "stream",
     "text": [
      "Test_F1_Score 0.5034013605442177\n"
     ]
    }
   ],
   "source": [
    "# Creating instances of KNN\n",
    "clf=KNN(n_neighbors=5)\n",
    "\n",
    "# Fitting the model\n",
    "clf.fit(train_x,train_y)\n",
    "\n",
    "# Predicting over the Test Set and calculating F1\n",
    "test_predict= clf.predict(test_x)\n",
    "k= f1_score(test_predict, test_y)\n",
    "print('Test_F1_Score',k)"
   ]
  },
  {
   "cell_type": "markdown",
   "id": "f8218fd3",
   "metadata": {},
   "source": [
    "# Elbow for Classifier"
   ]
  },
  {
   "cell_type": "code",
   "execution_count": 27,
   "id": "09d1f052",
   "metadata": {},
   "outputs": [],
   "source": [
    "def Elbow(K):\n",
    "    # Intializing empty list\n",
    "    test_error=[]\n",
    "    \n",
    "    # Training model for every vlaue of K\n",
    "    for i in K:\n",
    "        # instances of KNN\n",
    "        clf=KNN(n_neighbors=i)\n",
    "        clf.fit(train_x,train_y)\n",
    "        \n",
    "        # Appending F1 scores to empty list clalulated using ptrediction\n",
    "        tmp=clf.predict(test_x)\n",
    "        tmp=f1_score(tmp,test_y)\n",
    "        error=1-tmp\n",
    "        test_error.append(error)\n",
    "        \n",
    "    return test_error\n",
    "    "
   ]
  },
  {
   "cell_type": "code",
   "execution_count": 28,
   "id": "0b225c64",
   "metadata": {},
   "outputs": [],
   "source": [
    "# Define K range\n",
    "k=range(6,20,2)"
   ]
  },
  {
   "cell_type": "code",
   "execution_count": 29,
   "id": "462eac94",
   "metadata": {},
   "outputs": [],
   "source": [
    "# Calling elbow function\n",
    "test=Elbow(k)"
   ]
  },
  {
   "cell_type": "code",
   "execution_count": 30,
   "id": "aa7efdb2",
   "metadata": {},
   "outputs": [
    {
     "data": {
      "text/plain": [
       "Text(0.5, 1.0, 'Elbow Curve Test')"
      ]
     },
     "execution_count": 30,
     "metadata": {},
     "output_type": "execute_result"
    },
    {
     "data": {
      "image/png": "[encoded data removed]",
      "text/plain": [
       "<Figure size 640x480 with 1 Axes>"
      ]
     },
     "metadata": {},
     "output_type": "display_data"
    }
   ],
   "source": [
    "# Ploting the Curves\n",
    "plt.plot(k, test)\n",
    "plt.xlabel('K Neighbors')\n",
    "plt.xlabel('Test Error')\n",
    "plt.title(\"Elbow Curve Test\")"
   ]
  },
  {
   "cell_type": "code",
   "execution_count": 31,
   "id": "ad181ee0",
   "metadata": {},
   "outputs": [
    {
     "name": "stdout",
     "output_type": "stream",
     "text": [
      "Test_F1_Score 0.5165562913907285\n"
     ]
    }
   ],
   "source": [
    "# Creating instances of KNN\n",
    "clf=KNN(n_neighbors=10)\n",
    "\n",
    "# Fitting the model\n",
    "clf.fit(train_x,train_y)\n",
    "\n",
    "# Predicting over the Test Set and calculating F1\n",
    "test_predict= clf.predict(test_x)\n",
    "k= f1_score(test_predict, test_y)\n",
    "print('Test_F1_Score',k)"
   ]
  },
  {
   "cell_type": "markdown",
   "id": "860837dc",
   "metadata": {},
   "source": [
    "## Implementing KNN Regressor"
   ]
  },
  {
   "cell_type": "code",
   "execution_count": 32,
   "id": "a9631344",
   "metadata": {},
   "outputs": [],
   "source": [
    "from sklearn.neighbors import KNeighborsRegressor\n",
    "from sklearn.metrics import mean_squared_error"
   ]
  },
  {
   "cell_type": "code",
   "execution_count": 36,
   "id": "dd7980c9",
   "metadata": {},
   "outputs": [
    {
     "name": "stdout",
     "output_type": "stream",
     "text": [
      "Test MSE 0.25614349775784756\n"
     ]
    }
   ],
   "source": [
    " # Creating instnces of KNN\n",
    "reg=KNeighborsRegressor(n_neighbors=5)\n",
    "\n",
    "# Fitting the model\n",
    "reg.fit(train_x, train_y)\n",
    "\n",
    "# Predicting over the test data set\n",
    "test_predict=reg.predict(test_x)\n",
    "k=mean_squared_error(test_predict, test_y)\n",
    "print('Test MSE', k)"
   ]
  },
  {
   "cell_type": "code",
   "execution_count": 48,
   "id": "d93f11c7",
   "metadata": {},
   "outputs": [],
   "source": [
    "def Elbow(K):\n",
    "    # Intializing empty list\n",
    "    test_mse=[]\n",
    "    \n",
    "    # Training model for every vlaue of K\n",
    "    for i in K:\n",
    "        # instances of KNN\n",
    "        reg=KNeighborsRegressor(n_neighbors=i)\n",
    "        reg.fit(train_x,train_y)\n",
    "        \n",
    "        # Appending F1 scores to empty list clalulated using ptrediction\n",
    "        tmp=reg.predict(test_x)\n",
    "        tmp=mean_squared_error(tmp,test_y)\n",
    "    \n",
    "        test_mse.append(tmp)\n",
    "        \n",
    "    return test_mse"
   ]
  },
  {
   "cell_type": "code",
   "execution_count": 49,
   "id": "973e99fb",
   "metadata": {},
   "outputs": [],
   "source": [
    "# Define K range\n",
    "k=range(1,40)"
   ]
  },
  {
   "cell_type": "code",
   "execution_count": 50,
   "id": "79e64879",
   "metadata": {},
   "outputs": [],
   "source": [
    "# Calling above defined function\n",
    "test=Elbow(k)"
   ]
  },
  {
   "cell_type": "code",
   "execution_count": 51,
   "id": "b9ab09b5",
   "metadata": {},
   "outputs": [
    {
     "data": {
      "text/plain": [
       "Text(0.5, 1.0, 'Elbow Curve Test')"
      ]
     },
     "execution_count": 51,
     "metadata": {},
     "output_type": "execute_result"
    },
    {
     "data": {
      "image/png": "[encoded data removed]",
      "text/plain": [
       "<Figure size 640x480 with 1 Axes>"
      ]
     },
     "metadata": {},
     "output_type": "display_data"
    }
   ],
   "source": [
    "# Ploting the Curves\n",
    "plt.plot(k, test)\n",
    "plt.xlabel('K Neighbors')\n",
    "plt.xlabel('Test Mean Squared Error')\n",
    "plt.title(\"Elbow Curve Test\")"
   ]
  },
  {
   "cell_type": "code",
   "execution_count": 57,
   "id": "93309c0c",
   "metadata": {},
   "outputs": [
    {
     "name": "stdout",
     "output_type": "stream",
     "text": [
      "Test MSE 0.21784753363228698\n"
     ]
    }
   ],
   "source": [
    " # Creating instnces of KNN\n",
    "reg=KNeighborsRegressor(n_neighbors=20)\n",
    "\n",
    "# Fitting the model\n",
    "reg.fit(train_x, train_y)\n",
    "\n",
    "# Predicting over the test data set\n",
    "test_predict=reg.predict(test_x)\n",
    "k=mean_squared_error(test_predict, test_y)\n",
    "print('Test MSE', k)"
   ]
  },
  {
   "cell_type": "markdown",
   "id": "0e6c2544",
   "metadata": {},
   "source": [
    "## Determining the optimal value of k"
   ]
  },
  {
   "cell_type": "markdown",
   "id": "16354b91",
   "metadata": {},
   "source": [
    "Determining the optimal value of :\n",
    "k for k-Nearest Neighbors (kNN) involves finding a balance between bias and variance. The choice of \n",
    "k affects the model's performance, and selecting an appropriate k value is crucial for the effectiveness of the algorithm. Here are common methods to find the optimal k for kNN:"
   ]
  },
  {
   "cell_type": "markdown",
   "id": "26c0c764",
   "metadata": {},
   "source": [
    "## 1. Grid Search:\n",
    "\n",
    "Choose a range of k values, usually odd numbers to avoid ties in binary classification.\n",
    "Train the kNN algorithm for each k value on a subset of your training data.\n",
    "Evaluate the model's performance using cross-validation or a separate validation set.\n",
    "Select the k that gives the best performance."
   ]
  },
  {
   "cell_type": "code",
   "execution_count": 61,
   "id": "3c59943c",
   "metadata": {},
   "outputs": [
    {
     "name": "stdout",
     "output_type": "stream",
     "text": [
      "9\n"
     ]
    }
   ],
   "source": [
    "from sklearn.model_selection import GridSearchCV\n",
    "from sklearn.neighbors import KNeighborsClassifier\n",
    "\n",
    "# Define the parameter grid\n",
    "param_grid = {'n_neighbors': [1, 3, 5, 7, 9, 11, 13, 15]}\n",
    "\n",
    "# Create a kNN classifier\n",
    "knn = KNeighborsClassifier()\n",
    "\n",
    "# Use GridSearchCV to find the best k\n",
    "grid_search = GridSearchCV(knn, param_grid, cv=5)\n",
    "grid_search.fit(train_x,train_y)\n",
    "\n",
    "# Get the best k value\n",
    "best_k = grid_search.best_params_['n_neighbors']\n",
    "print(best_k)"
   ]
  },
  {
   "cell_type": "markdown",
   "id": "7741cd39",
   "metadata": {},
   "source": [
    "## 2. Elbow Method:\n",
    "\n",
    "Train the kNN algorithm for a range of k values and record the error (e.g., misclassification rate or mean squared error) on a validation set.\n",
    "Plot the error as a function of k.\n",
    "Look for the \"elbow\" point where further increases in k result in diminishing returns in terms of error reduction."
   ]
  },
  {
   "cell_type": "code",
   "execution_count": 65,
   "id": "cdd63145",
   "metadata": {},
   "outputs": [
    {
     "data": {
      "image/png": "[encoded data removed]",
      "text/plain": [
       "<Figure size 640x480 with 1 Axes>"
      ]
     },
     "metadata": {},
     "output_type": "display_data"
    }
   ],
   "source": [
    "from sklearn.neighbors import KNeighborsClassifier\n",
    "import matplotlib.pyplot as plt\n",
    "\n",
    "error_rates = []\n",
    "\n",
    "# Test different values of k\n",
    "for k in range(1, 20):\n",
    "    knn = KNeighborsClassifier(n_neighbors=k)\n",
    "    knn.fit(train_x, train_y)\n",
    "    error = 1 - knn.score(test_x, test_y)\n",
    "    error_rates.append(error)\n",
    "\n",
    "# Plot the error rates\n",
    "plt.plot(range(1, 20), error_rates, marker='o')\n",
    "plt.xlabel('k')\n",
    "plt.ylabel('Error Rate')\n",
    "plt.show()"
   ]
  },
  {
   "cell_type": "markdown",
   "id": "87c0d1c5",
   "metadata": {},
   "source": [
    "## 3 Cross-Validation:\n",
    "\n",
    "Perform k-fold cross-validation for different k values.\n",
    "Calculate the average performance metric (e.g., accuracy) for each k.\n",
    "Choose the k that maximizes the average performance metric."
   ]
  },
  {
   "cell_type": "code",
   "execution_count": 66,
   "id": "09e2bfc0",
   "metadata": {},
   "outputs": [
    {
     "name": "stdout",
     "output_type": "stream",
     "text": [
      "k=1, Average Accuracy: 0.6886208057457075\n",
      "k=3, Average Accuracy: 0.6915834362024464\n",
      "k=5, Average Accuracy: 0.7035574009650993\n",
      "k=7, Average Accuracy: 0.7020648636516664\n",
      "k=9, Average Accuracy: 0.7155650319829425\n",
      "k=11, Average Accuracy: 0.7065424755919649\n",
      "k=13, Average Accuracy: 0.6945572887442486\n",
      "k=15, Average Accuracy: 0.7006059925934238\n"
     ]
    }
   ],
   "source": [
    "from sklearn.model_selection import cross_val_score\n",
    "\n",
    "k_values = [1, 3, 5, 7, 9, 11, 13, 15]\n",
    "\n",
    "# Evaluate kNN for each k using cross-validation\n",
    "for k in k_values:\n",
    "    knn = KNeighborsClassifier(n_neighbors=k)\n",
    "    scores = cross_val_score(knn, train_x, train_y, cv=5)\n",
    "    average_accuracy = scores.mean()\n",
    "    print(f'k={k}, Average Accuracy: {average_accuracy}')"
   ]
  }
 ],
 "metadata": {
  "kernelspec": {
   "display_name": "Python 3 (ipykernel)",
   "language": "python",
   "name": "python3"
  },
  "language_info": {
   "codemirror_mode": {
    "name": "ipython",
    "version": 3
   },
   "file_extension": ".py",
   "mimetype": "text/x-python",
   "name": "python",
   "nbconvert_exporter": "python",
   "pygments_lexer": "ipython3",
   "version": "3.9.12"
  }
 },
 "nbformat": 4,
 "nbformat_minor": 5
}
